{
 "cells": [
  {
   "cell_type": "markdown",
   "metadata": {},
   "source": [
    "#### DataFrame Code"
   ]
  },
  {
   "cell_type": "code",
   "execution_count": 39,
   "metadata": {},
   "outputs": [
    {
     "name": "stdout",
     "output_type": "stream",
     "text": [
      "                 499 or Less  500-999  1000-1499 Status\n",
      "John Smith               203      206        211      A\n",
      "Tiger Aldrin             217      221        224      A\n",
      "Jeremy Cole              237      240        248      A\n",
      "Lee West                 222      228        234      A\n",
      "Warren Buff              250      257        262      A\n",
      "...                      ...      ...        ...    ...\n",
      "Gregory Jenkins          227      230        241      A\n",
      "Dennis Bennett           230      233        244      A\n",
      "Jerry Bell               253      257        263      A\n",
      "Eric Murphy              216      223        227      A\n",
      "Peter Price              209      213        216      A\n",
      "\n",
      "[100 rows x 4 columns]\n"
     ]
    }
   ],
   "source": [
    "import pandas as pd\n",
    "\n",
    "from pandas import DataFrame\n",
    "\n",
    " \n",
    "\n",
    "df = DataFrame()\n",
    "\n",
    "df[\"499 or Less\"] = [203, 217, 237, 222, 250, 300, 309, 305, 340, 300,282,170,242,243,261,304,309,369,314,312,275,260,221,248,271,\n",
    "\n",
    "                    310,312,322,314,353,243,231,222,269,270,312,342,300,373,315,255,231,220,224,230,302,300,312,311,314,230,232,240,\n",
    "\n",
    "                    236,270,310,304,330,370,400,214,270,208,281,272,228,268,275,242,236,215,212,260,255,298,259,287,238,258,257,256,\n",
    "\n",
    "                     229,245,202,207,252,204,223,215,211,242,252,289,295,228,227,230,253,216,209]\n",
    "\n",
    " \n",
    "\n",
    "df[\"500-999\"] = [206, 221, 240, 228, 257, 304, 314, 311, 344, 328, 286, 177, 247, 247, 265, 310, 314, 373, 407, 318, 281, 263, 228, 255, 277, 345, 317, 328, 318, 360, 247, \n",
    "\n",
    "                234, 225, 272, 273, 319, 349, 305, 380, 331, 260, 236, 223, 227, 234, 309, 303, 318, 314, 320, 234, 235, 243, 243, 273, 317, 311, 355, 360, 425, 219, 276, \n",
    "\n",
    "                215, 286, 278, 231, 272, 280, 248, 241, 218, 216, 266, 262, 302, 265, 293, 242, 264, 263, 263, 235, 251, 208, 213, 259, 211, 229, 221, 217, 247, 255, 296, \n",
    "\n",
    "                301, 232, 230, 233, 257, 223, 213]\n",
    "\n",
    "                \n",
    "\n",
    "df[\"1000-1499\"] = [211, 224, 248, 234, 262, 308, 323, 312, 348, 335, 296, 184, 256, 256, 268, 312, 318, 380, 412, 319, 284, 268, 228, 256, 285, 349, 324, 332, 324, 361, 250, \n",
    "\n",
    "                  245, 233, 283, 279, 323, 354, 313, 383, 338, 264, 242, 230, 238, 240, 312, 310, 326, 321, 321, 238, 241, 247, 243, 280, 317, 317, 377, 385, 455, 224, 283, \n",
    "\n",
    "                  219, 288, 284, 239, 279, 283, 255, 249, 226, 219, 268, 265, 305, 273, 295, 251, 265, 267, 266, 239, 254, 212, 216, 261, 211, 232, 227, 220, 255, 266, 301, \n",
    "\n",
    "                  305, 235, 241, 244, 263, 227, 216]\n",
    "\n",
    "                 \n",
    "\n",
    "df[\"Status\"] = [\"A\",\"A\",\"A\",\"A\",\"A\",\"P\",\"P\",\"P\",\"P\",\"P\",\"A\",\"A\",\"A\",\"A\",\"A\",\"P\",\"P\",\"P\",\"P\",\"P\",\"A\",\"A\",\"A\",\"A\",\"A\",\n",
    "\n",
    "               \"P\",\"P\",\"P\",\"P\",\"P\",\"A\",\"A\",\"A\",\"A\",\"A\",\"P\",\"P\",\"P\",\"P\",\"P\",\"A\",\"A\",\"A\",\"A\",\"A\",\"P\",\"P\",\"P\",\"P\",\"P\",\n",
    "\n",
    "               \"A\",\"A\",\"A\",\"A\",\"A\",\"P\",\"P\",\"P\",\"P\",\"P\",\"P\",\"A\",\"A\",\"A\",\"A\",\"A\",\"A\",\"A\",\"A\",\"A\",\"A\",\"A\",\"A\",\"A\",\"A\",\"A\",\n",
    "\n",
    "               \"A\",\"A\",\"A\",\"A\",\"A\",\"A\",\"A\",\"A\",\"A\",\"A\",\"A\",\"A\",\"A\",\"A\",\"A\",\"A\",\"A\",\"A\",\"A\",\"A\",\"A\",\"A\",\"A\",\"A\",]\n",
    "\n",
    "df.index = [\"John Smith\", \"Tiger Aldrin\", \"Jeremy Cole\", \"Lee West\", \"Warren Buff \", \"Waldo Where\",\n",
    "\n",
    "            \"Patrick Reel\", \"Vijay Love\", \"Greta Lindstrom\",\"Jeffrey Bautista\",\"Tiger Mcilroy\", 'Rory Johnson', 'Charlie Chris',\n",
    "\n",
    "           'Bob Harley', \"Rick Harrsison\", \"Ron Burgundy\", 'Brick Tamland', 'Wapasha Chelsea', 'Onismu Ruslan', 'Demarcus Rozen'\n",
    "\n",
    "           'Graham Butler','Patrick Sun','Brian Hay','Roy Curry','Jeff Hopkins',\"Carlos Tardiff\", \"Ben Dover\", \"Luigi Mario\",\n",
    "\n",
    "            \"Kenny Jones\", 'John Doe','Wolf Johnson','Dequavious Mitchell','Mike Jackson','Bill Cosby','Giuseppe Pinocchio'\n",
    "\n",
    "           'John Daly','Glen Lamar',\"Gail Beddeker\", 'Mike Ehrmentraut','Vince Power','Paul Cable','Eric Watkins','Nick Tesla',\n",
    "\n",
    "           'Paul Simmons', 'James Barnes','Ted Zedd','Dequavious Mitchell II', 'Rodrigo Bowers', 'Chester Dudley','Steven Champagne'\n",
    "\n",
    "           'Ray Thompson','Doug Young','Stefon Willis','Richard Lafleur','Davon Budd','Julio Jones','Laplace Transform','Frank Sea',\n",
    "\n",
    "            'Kanye East','Ben Kim','Amery Merkle','Aidan Maksymchuk','Pierce Decore','Sam Laquerre',\"John Smith\",\"Michael Johnson\",\n",
    "\n",
    "            \"David Brown\", \"William Davis\",\"James Wilson\",\"Robert Moore\",\"Joseph Taylor\",\"Charles Anderson\",\"Thomas White\", \"Daniel Clark\",\n",
    "\n",
    "             \"Matthew Lewis\", \"Christopher Hall\", \"Andrew Turner\",\"Mark Martin\", \"Richard Harris\", \"Paul Lee\", \"Steven Walker\",\n",
    "\n",
    "            \"Brian Young\",\"Kevin Wright\",\"Edward King\",\"George Adams\",\"Donald Nelson\",\"Ronald Baker\",\"Kenneth Roberts\",\"Anthony Carter\",\n",
    "\n",
    "            \"Jeffrey Mitchell\", \"Scott Phillips\", \"Timothy Foster\", \"Gary Hayes\", \"Larry Turner\",\"Stephen Wood\", \"Frank Reed\",\"Patrick Cook\",\n",
    "\n",
    "            \"Raymond Morris\", \"Gregory Jenkins\",\"Dennis Bennett\", \"Jerry Bell\", \"Eric Murphy\",\"Peter Price\"]\n",
    "\n",
    "print(df)"
   ]
  },
  {
   "cell_type": "markdown",
   "metadata": {},
   "source": [
    "## Explore the possibility of developing a machine learning model through graphical analysis. \n",
    "\n",
    "### (a) Write the code to generate pair plots for your data (as you did in CURE deliverable 2). Show screenshot of the code (input). [ 4 marks]"
   ]
  },
  {
   "cell_type": "code",
   "execution_count": 52,
   "metadata": {},
   "outputs": [
    {
     "data": {
      "text/plain": [
       "[<matplotlib.axis.YTick at 0x20664639bd0>,\n",
       " <matplotlib.axis.YTick at 0x20664638450>,\n",
       " <matplotlib.axis.YTick at 0x2066462bb90>,\n",
       " <matplotlib.axis.YTick at 0x206647c23d0>,\n",
       " <matplotlib.axis.YTick at 0x206647c7350>,\n",
       " <matplotlib.axis.YTick at 0x206647cd390>,\n",
       " <matplotlib.axis.YTick at 0x206647cf3d0>,\n",
       " <matplotlib.axis.YTick at 0x206647d5310>,\n",
       " <matplotlib.axis.YTick at 0x206647cca90>,\n",
       " <matplotlib.axis.YTick at 0x206647d7750>,\n",
       " <matplotlib.axis.YTick at 0x206647dd710>,\n",
       " <matplotlib.axis.YTick at 0x206647df6d0>,\n",
       " <matplotlib.axis.YTick at 0x206647e5650>,\n",
       " <matplotlib.axis.YTick at 0x206647e7590>]"
      ]
     },
     "execution_count": 52,
     "metadata": {},
     "output_type": "execute_result"
    },
    {
     "data": {
      "image/png": "[encoded data removed]",
      "text/plain": [
       "<Figure size 1500x500 with 3 Axes>"
      ]
     },
     "metadata": {},
     "output_type": "display_data"
    }
   ],
   "source": [
    "import matplotlib.pyplot as plt\n",
    "import numpy as np\n",
    "\n",
    "pro_df = df[df[\"Status\"] == \"P\"]\n",
    "am_df = df[df[\"Status\"] == \"A\"]\n",
    "\n",
    "fig, ax = plt.subplots(1,3, figsize=(15,5))\n",
    "\n",
    "ax[0].hist(pro_df.iloc[:,0], edgecolor='blue', alpha=0.7, label='Professional', linewidth=2, fill=False, bins=range(200, 450, 10))\n",
    "ax[0].hist(am_df.iloc[:,0], edgecolor='red', alpha=0.7, label='Amateur', linewidth=2, fill=False, bins=range(200, 310, 10))\n",
    "\n",
    "ax[0].set_xlabel('Driving Distance')\n",
    "ax[0].set_ylabel('Frequency')\n",
    "ax[0].legend(loc='upper right')\n",
    "ax[0].set_xticks(np.arange(200,410, step= 25))\n",
    "ax[0].set_yticks(np.arange(0,14, step= 1))\n",
    "\n",
    "ax[1].hist(pro_df.iloc[:,1], edgecolor='blue', alpha=0.7, label='Professional', linewidth=2, fill=False, \n",
    "           bins=range(200, 450, 10))\n",
    "ax[1].hist(am_df.iloc[:,1], edgecolor='red', alpha=0.7, label='Amateur', linewidth=2, fill=False, bins=range(200, 310, 10))\n",
    "\n",
    "ax[1].set_xlabel('Driving Distance')\n",
    "ax[1].set_ylabel('Frequency')\n",
    "ax[1].legend(loc='upper right')\n",
    "ax[1].set_xticks(np.arange(200,450, step= 25))\n",
    "ax[1].set_yticks(np.arange(0,14, step= 1))\n",
    "\n",
    "ax[2].hist(pro_df.iloc[:,2], edgecolor='blue', alpha=0.7, label='Professional', linewidth=2, fill=False, bins=range(200, 480, 10))\n",
    "ax[2].hist(am_df.iloc[:,2], edgecolor='red', alpha=0.7, label='Amateur', linewidth=2, fill=False, bins=range(200, 310, 10))\n",
    "\n",
    "ax[2].set_xlabel('Driving Distance')\n",
    "ax[2].set_ylabel('Frequency')\n",
    "ax[2].legend(loc='upper right')\n",
    "ax[2].set_xticks(np.arange(200,500, step= 25))\n",
    "ax[2].set_yticks(np.arange(0,14, step= 1))"
   ]
  }
 ],
 "metadata": {
  "kernelspec": {
   "display_name": "Python 3",
   "language": "python",
   "name": "python3"
  },
  "language_info": {
   "codemirror_mode": {
    "name": "ipython",
    "version": 3
   },
   "file_extension": ".py",
   "mimetype": "text/x-python",
   "name": "python",
   "nbconvert_exporter": "python",
   "pygments_lexer": "ipython3",
   "version": "3.11.6"
  }
 },
 "nbformat": 4,
 "nbformat_minor": 2
}
