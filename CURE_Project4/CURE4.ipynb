{
 "cells": [
  {
   "cell_type": "markdown",
   "metadata": {},
   "source": [
    "# Task 1"
   ]
  },
  {
   "cell_type": "code",
   "execution_count": 74,
   "metadata": {},
   "outputs": [
    {
     "name": "stdout",
     "output_type": "stream",
     "text": [
      "                 499 or Less  500-999  1000-1499 Status\n",
      "John Smith               203      206        211      A\n",
      "Tiger Aldrin             217      221        224      A\n",
      "Jeremy Cole              237      240        248      A\n",
      "Lee West                 222      228        234      A\n",
      "Warren Buff              250      257        262      A\n",
      "...                      ...      ...        ...    ...\n",
      "Gregory Jenkins          227      230        241      A\n",
      "Dennis Bennett           230      233        244      A\n",
      "Jerry Bell               253      257        263      A\n",
      "Eric Murphy              216      223        227      A\n",
      "Peter Price              209      213        216      A\n",
      "\n",
      "[100 rows x 4 columns]\n"
     ]
    }
   ],
   "source": [
    "# Creation of dataframe\n",
    "\n",
    "import pandas as pd\n",
    "\n",
    "from pandas import DataFrame\n",
    "\n",
    " \n",
    "\n",
    "df = DataFrame()\n",
    "\n",
    "df[\"499 or Less\"] = [203, 217, 237, 222, 250, 300, 309, 305, 340, 300,282,170,242,243,261,304,309,369,314,312,275,260,221,248,271,\n",
    "\n",
    "                    310,312,322,314,353,243,231,222,269,270,312,342,300,373,315,255,231,220,224,230,302,300,312,311,314,230,232,240,\n",
    "\n",
    "                    236,270,310,304,330,370,400,214,270,208,281,272,228,268,275,242,236,215,212,260,255,298,259,287,238,258,257,256,\n",
    "\n",
    "                     229,245,202,207,252,204,223,215,211,242,252,289,295,228,227,230,253,216,209]\n",
    "\n",
    " \n",
    "\n",
    "df[\"500-999\"] = [206, 221, 240, 228, 257, 304, 314, 311, 344, 328, 286, 177, 247, 247, 265, 310, 314, 373, 407, 318, 281, 263, 228, 255, 277, 345, 317, 328, 318, 360, 247, \n",
    "\n",
    "                234, 225, 272, 273, 319, 349, 305, 380, 331, 260, 236, 223, 227, 234, 309, 303, 318, 314, 320, 234, 235, 243, 243, 273, 317, 311, 355, 360, 425, 219, 276, \n",
    "\n",
    "                215, 286, 278, 231, 272, 280, 248, 241, 218, 216, 266, 262, 302, 265, 293, 242, 264, 263, 263, 235, 251, 208, 213, 259, 211, 229, 221, 217, 247, 255, 296, \n",
    "\n",
    "                301, 232, 230, 233, 257, 223, 213]\n",
    "\n",
    "                \n",
    "\n",
    "df[\"1000-1499\"] = [211, 224, 248, 234, 262, 308, 323, 312, 348, 335, 296, 184, 256, 256, 268, 312, 318, 380, 412, 319, 284, 268, 228, 256, 285, 349, 324, 332, 324, 361, 250, \n",
    "\n",
    "                  245, 233, 283, 279, 323, 354, 313, 383, 338, 264, 242, 230, 238, 240, 312, 310, 326, 321, 321, 238, 241, 247, 243, 280, 317, 317, 377, 385, 455, 224, 283, \n",
    "\n",
    "                  219, 288, 284, 239, 279, 283, 255, 249, 226, 219, 268, 265, 305, 273, 295, 251, 265, 267, 266, 239, 254, 212, 216, 261, 211, 232, 227, 220, 255, 266, 301, \n",
    "\n",
    "                  305, 235, 241, 244, 263, 227, 216]\n",
    "\n",
    "                 \n",
    "\n",
    "df[\"Status\"] = [\"A\",\"A\",\"A\",\"A\",\"A\",\"P\",\"P\",\"P\",\"P\",\"P\",\"A\",\"A\",\"A\",\"A\",\"A\",\"P\",\"P\",\"P\",\"P\",\"P\",\"A\",\"A\",\"A\",\"A\",\"A\",\n",
    "\n",
    "               \"P\",\"P\",\"P\",\"P\",\"P\",\"A\",\"A\",\"A\",\"A\",\"A\",\"P\",\"P\",\"P\",\"P\",\"P\",\"A\",\"A\",\"A\",\"A\",\"A\",\"P\",\"P\",\"P\",\"P\",\"P\",\n",
    "\n",
    "               \"A\",\"A\",\"A\",\"A\",\"A\",\"P\",\"P\",\"P\",\"P\",\"P\",\"P\",\"A\",\"A\",\"A\",\"A\",\"A\",\"A\",\"A\",\"A\",\"A\",\"A\",\"A\",\"A\",\"A\",\"A\",\"A\",\n",
    "\n",
    "               \"A\",\"A\",\"A\",\"A\",\"A\",\"A\",\"A\",\"A\",\"A\",\"A\",\"A\",\"A\",\"A\",\"A\",\"A\",\"A\",\"A\",\"A\",\"A\",\"A\",\"A\",\"A\",\"A\",\"A\",]\n",
    "\n",
    "df.index = [\"John Smith\", \"Tiger Aldrin\", \"Jeremy Cole\", \"Lee West\", \"Warren Buff \", \"Waldo Where\",\n",
    "\n",
    "            \"Patrick Reel\", \"Vijay Love\", \"Greta Lindstrom\",\"Jeffrey Bautista\",\"Tiger Mcilroy\", 'Rory Johnson', 'Charlie Chris',\n",
    "\n",
    "           'Bob Harley', \"Rick Harrsison\", \"Ron Burgundy\", 'Brick Tamland', 'Wapasha Chelsea', 'Onismu Ruslan', 'Demarcus Rozen'\n",
    "\n",
    "           'Graham Butler','Patrick Sun','Brian Hay','Roy Curry','Jeff Hopkins',\"Carlos Tardiff\", \"Ben Dover\", \"Luigi Mario\",\n",
    "\n",
    "            \"Kenny Jones\", 'John Doe','Wolf Johnson','Dequavious Mitchell','Mike Jackson','Bill Cosby','Giuseppe Pinocchio'\n",
    "\n",
    "           'John Daly','Glen Lamar',\"Gail Beddeker\", 'Mike Ehrmentraut','Vince Power','Paul Cable','Eric Watkins','Nick Tesla',\n",
    "\n",
    "           'Paul Simmons', 'James Barnes','Ted Zedd','Dequavious Mitchell II', 'Rodrigo Bowers', 'Chester Dudley','Steven Champagne'\n",
    "\n",
    "           'Ray Thompson','Doug Young','Stefon Willis','Richard Lafleur','Davon Budd','Julio Jones','Laplace Transform','Frank Sea',\n",
    "\n",
    "            'Kanye East','Ben Kim','Amery Merkle','Aidan Maksymchuk','Pierce Decore','Sam Laquerre',\"John Smith\",\"Michael Johnson\",\n",
    "\n",
    "            \"David Brown\", \"William Davis\",\"James Wilson\",\"Robert Moore\",\"Joseph Taylor\",\"Charles Anderson\",\"Thomas White\", \"Daniel Clark\",\n",
    "\n",
    "             \"Matthew Lewis\", \"Christopher Hall\", \"Andrew Turner\",\"Mark Martin\", \"Richard Harris\", \"Paul Lee\", \"Steven Walker\",\n",
    "\n",
    "            \"Brian Young\",\"Kevin Wright\",\"Edward King\",\"George Adams\",\"Donald Nelson\",\"Ronald Baker\",\"Kenneth Roberts\",\"Anthony Carter\",\n",
    "\n",
    "            \"Jeffrey Mitchell\", \"Scott Phillips\", \"Timothy Foster\", \"Gary Hayes\", \"Larry Turner\",\"Stephen Wood\", \"Frank Reed\",\"Patrick Cook\",\n",
    "\n",
    "            \"Raymond Morris\", \"Gregory Jenkins\",\"Dennis Bennett\", \"Jerry Bell\", \"Eric Murphy\",\"Peter Price\"]\n",
    "\n",
    "print(df)"
   ]
  },
  {
   "cell_type": "code",
   "execution_count": 75,
   "metadata": {},
   "outputs": [],
   "source": [
    "import numpy as np\n",
    "import pandas as pd\n",
    "from pandas import Series, DataFrame\n",
    "import matplotlib.pyplot as plt\n",
    "\n",
    "#Splitting up attributes and categories\n",
    "dfX = df.drop (columns =[\"Status\"])\n",
    "sy = df.Status\n",
    "\n",
    "# Creating testing and training set for the model\n",
    "from sklearn.model_selection import train_test_split\n",
    "dfX_train, dfX_test, sy_train, sy_test = train_test_split (dfX, sy)\n",
    "\n",
    "# Encoding the categorical labels\n",
    "from sklearn import preprocessing \n",
    "le = preprocessing.LabelEncoder()\n",
    "le = le.fit(sy_train)\n",
    "#Converts into a numpy array of integers\n",
    "y_train = le.transform(sy_train) # 0 is fail, 1 is pass\n",
    "#Does the opposite operation on a sample\n",
    "classes = le.inverse_transform( [1,0,0,0,1,1,0,0])\n",
    "\n",
    "#Scaling of attributes using MinMaxScaler()\n",
    "nl = preprocessing.MinMaxScaler() \n",
    "nl = nl.fit(dfX_train.to_numpy())\n",
    "X_train = nl.transform(dfX_train.to_numpy())\n",
    "\n",
    "#Creating the knn classifier\n",
    "from sklearn.neighbors import KNeighborsClassifier\n",
    "\n",
    "knn = KNeighborsClassifier(n_neighbors=6)\n",
    "knn = knn.fit(X_train, y_train)\n",
    "\n",
    "#Processing of the test datasets\n",
    "y_test = le.transform(sy_test.to_numpy())\n",
    "X_test = nl.transform(dfX_test.to_numpy())"
   ]
  },
  {
   "cell_type": "markdown",
   "metadata": {},
   "source": [
    "# Task 2"
   ]
  },
  {
   "cell_type": "markdown",
   "metadata": {},
   "source": [
    "### Task 2a"
   ]
  },
  {
   "cell_type": "code",
   "execution_count": 76,
   "metadata": {},
   "outputs": [
    {
     "data": {
      "text/plain": [
       "Text(0.5, 1.0, 'Test Set')"
      ]
     },
     "execution_count": 76,
     "metadata": {},
     "output_type": "execute_result"
    },
    {
     "data": {
      "image/png": "[encoded data removed]",
      "text/plain": [
       "<Figure size 640x480 with 2 Axes>"
      ]
     },
     "metadata": {},
     "output_type": "display_data"
    }
   ],
   "source": [
    "#Creation and population of scores for both test and training sets\n",
    "k_list = range(1,76)\n",
    "Train_Score = []\n",
    "Test_Score = []\n",
    "\n",
    "for i in k_list: # changes the value of k to compare\n",
    "    knn = KNeighborsClassifier(n_neighbors = i)\n",
    "    knn = knn.fit(X_train, y_train)\n",
    "    Train_Score.append(knn.score(X_train, y_train))\n",
    "    Test_Score.append(knn.score(X_test, y_test))\n",
    "    \n",
    "#Graphing of test and train scores\n",
    "axs1 = plt.subplot2grid ( shape=(1, 2), loc = (0, 0))\n",
    "axs2 = plt.subplot2grid ( shape=(1, 2), loc = (0, 1))\n",
    "\n",
    "axs1.scatter(k_list, Train_Score)\n",
    "axs1.set_xlabel('K-Value')\n",
    "axs1.set_ylabel('Score')\n",
    "axs1.set_title('Training Set')\n",
    "\n",
    "axs2.scatter(k_list, Test_Score)\n",
    "axs2.set_xlabel('K-Value')\n",
    "axs2.set_ylabel('Score')\n",
    "axs2.set_title('Test Set')"
   ]
  },
  {
   "cell_type": "markdown",
   "metadata": {},
   "source": [
    "### Task 2b"
   ]
  },
  {
   "cell_type": "code",
   "execution_count": 77,
   "metadata": {},
   "outputs": [
    {
     "data": {
      "text/plain": [
       "Text(0.5, 1.0, 'Test Set')"
      ]
     },
     "execution_count": 77,
     "metadata": {},
     "output_type": "execute_result"
    },
    {
     "data": {
      "image/png": "[encoded data removed]",
      "text/plain": [
       "<Figure size 640x480 with 2 Axes>"
      ]
     },
     "metadata": {},
     "output_type": "display_data"
    }
   ],
   "source": [
    "# Altering of Task 1 Variable into StandardScaler()\n",
    "scaler = preprocessing.StandardScaler()\n",
    "scaler = scaler.fit(dfX_train.to_numpy())\n",
    "X_train = scaler.transform(dfX_train.to_numpy())\n",
    "\n",
    "# Repitition of 2a with the new X_train\n",
    "Train_Score.clear(), Test_Score.clear()\n",
    "for i in k_list: # changes the value of k to compare\n",
    "    knn = KNeighborsClassifier(n_neighbors = i)\n",
    "    knn = knn.fit(X_train, y_train)\n",
    "    Train_Score.append(knn.score(X_train, y_train))\n",
    "    Test_Score.append(knn.score(X_test, y_test))\n",
    "    \n",
    "#Graphing of test and train scores\n",
    "axs1 = plt.subplot2grid ( shape=(1, 2), loc = (0, 0))\n",
    "axs2 = plt.subplot2grid ( shape=(1, 2), loc = (0, 1))\n",
    "\n",
    "axs1.scatter(k_list, Train_Score)\n",
    "axs1.set_xlabel('K-Value')\n",
    "axs1.set_ylabel('Score')\n",
    "axs1.set_title('Training Set')\n",
    "\n",
    "axs2.scatter(k_list, Test_Score)\n",
    "axs2.set_xlabel('K-Value')\n",
    "axs2.set_ylabel('Score')\n",
    "axs2.set_title('Test Set')\n"
   ]
  },
  {
   "cell_type": "markdown",
   "metadata": {},
   "source": [
    "# Task 3"
   ]
  },
  {
   "cell_type": "markdown",
   "metadata": {},
   "source": [
    "### Based on multiple trials, it seems like the best k value is 1. Since both classifiers seem to work pretty identically, MinMaxScaler provides easier values to work with, thus we'll use it from now on."
   ]
  },
  {
   "cell_type": "code",
   "execution_count": 78,
   "metadata": {},
   "outputs": [],
   "source": [
    "# Final Model being used (Everything being redefined)\n",
    "\n",
    "import numpy as np\n",
    "import pandas as pd\n",
    "from pandas import Series, DataFrame\n",
    "import matplotlib.pyplot as plt\n",
    "\n",
    "df = DataFrame()\n",
    "\n",
    "df[\"499 or Less\"] = [203, 217, 237, 222, 250, 300, 309, 305, 340, 300,282,170,242,243,261,304,309,369,314,312,275,260,221,248,271,\n",
    "\n",
    "                    310,312,322,314,353,243,231,222,269,270,312,342,300,373,315,255,231,220,224,230,302,300,312,311,314,230,232,240,\n",
    "\n",
    "                    236,270,310,304,330,370,400,214,270,208,281,272,228,268,275,242,236,215,212,260,255,298,259,287,238,258,257,256,\n",
    "\n",
    "                     229,245,202,207,252,204,223,215,211,242,252,289,295,228,227,230,253,216,209]\n",
    "\n",
    " \n",
    "\n",
    "df[\"500-999\"] = [206, 221, 240, 228, 257, 304, 314, 311, 344, 328, 286, 177, 247, 247, 265, 310, 314, 373, 407, 318, 281, 263, 228, 255, 277, 345, 317, 328, 318, 360, 247, \n",
    "\n",
    "                234, 225, 272, 273, 319, 349, 305, 380, 331, 260, 236, 223, 227, 234, 309, 303, 318, 314, 320, 234, 235, 243, 243, 273, 317, 311, 355, 360, 425, 219, 276, \n",
    "\n",
    "                215, 286, 278, 231, 272, 280, 248, 241, 218, 216, 266, 262, 302, 265, 293, 242, 264, 263, 263, 235, 251, 208, 213, 259, 211, 229, 221, 217, 247, 255, 296, \n",
    "\n",
    "                301, 232, 230, 233, 257, 223, 213]\n",
    "\n",
    "                \n",
    "\n",
    "df[\"1000-1499\"] = [211, 224, 248, 234, 262, 308, 323, 312, 348, 335, 296, 184, 256, 256, 268, 312, 318, 380, 412, 319, 284, 268, 228, 256, 285, 349, 324, 332, 324, 361, 250, \n",
    "\n",
    "                  245, 233, 283, 279, 323, 354, 313, 383, 338, 264, 242, 230, 238, 240, 312, 310, 326, 321, 321, 238, 241, 247, 243, 280, 317, 317, 377, 385, 455, 224, 283, \n",
    "\n",
    "                  219, 288, 284, 239, 279, 283, 255, 249, 226, 219, 268, 265, 305, 273, 295, 251, 265, 267, 266, 239, 254, 212, 216, 261, 211, 232, 227, 220, 255, 266, 301, \n",
    "\n",
    "                  305, 235, 241, 244, 263, 227, 216]\n",
    "\n",
    "                 \n",
    "\n",
    "df[\"Status\"] = [\"A\",\"A\",\"A\",\"A\",\"A\",\"P\",\"P\",\"P\",\"P\",\"P\",\"A\",\"A\",\"A\",\"A\",\"A\",\"P\",\"P\",\"P\",\"P\",\"P\",\"A\",\"A\",\"A\",\"A\",\"A\",\n",
    "\n",
    "               \"P\",\"P\",\"P\",\"P\",\"P\",\"A\",\"A\",\"A\",\"A\",\"A\",\"P\",\"P\",\"P\",\"P\",\"P\",\"A\",\"A\",\"A\",\"A\",\"A\",\"P\",\"P\",\"P\",\"P\",\"P\",\n",
    "\n",
    "               \"A\",\"A\",\"A\",\"A\",\"A\",\"P\",\"P\",\"P\",\"P\",\"P\",\"P\",\"A\",\"A\",\"A\",\"A\",\"A\",\"A\",\"A\",\"A\",\"A\",\"A\",\"A\",\"A\",\"A\",\"A\",\"A\",\n",
    "\n",
    "               \"A\",\"A\",\"A\",\"A\",\"A\",\"A\",\"A\",\"A\",\"A\",\"A\",\"A\",\"A\",\"A\",\"A\",\"A\",\"A\",\"A\",\"A\",\"A\",\"A\",\"A\",\"A\",\"A\",\"A\",]\n",
    "\n",
    "df.index = [\"John Smith\", \"Tiger Aldrin\", \"Jeremy Cole\", \"Lee West\", \"Warren Buff \", \"Waldo Where\",\n",
    "\n",
    "            \"Patrick Reel\", \"Vijay Love\", \"Greta Lindstrom\",\"Jeffrey Bautista\",\"Tiger Mcilroy\", 'Rory Johnson', 'Charlie Chris',\n",
    "\n",
    "           'Bob Harley', \"Rick Harrsison\", \"Ron Burgundy\", 'Brick Tamland', 'Wapasha Chelsea', 'Onismu Ruslan', 'Demarcus Rozen'\n",
    "\n",
    "           'Graham Butler','Patrick Sun','Brian Hay','Roy Curry','Jeff Hopkins',\"Carlos Tardiff\", \"Ben Dover\", \"Luigi Mario\",\n",
    "\n",
    "            \"Kenny Jones\", 'John Doe','Wolf Johnson','Dequavious Mitchell','Mike Jackson','Bill Cosby','Giuseppe Pinocchio'\n",
    "\n",
    "           'John Daly','Glen Lamar',\"Gail Beddeker\", 'Mike Ehrmentraut','Vince Power','Paul Cable','Eric Watkins','Nick Tesla',\n",
    "\n",
    "           'Paul Simmons', 'James Barnes','Ted Zedd','Dequavious Mitchell II', 'Rodrigo Bowers', 'Chester Dudley','Steven Champagne'\n",
    "\n",
    "           'Ray Thompson','Doug Young','Stefon Willis','Richard Lafleur','Davon Budd','Julio Jones','Laplace Transform','Frank Sea',\n",
    "\n",
    "            'Kanye East','Ben Kim','Amery Merkle','Aidan Maksymchuk','Pierce Decore','Sam Laquerre',\"John Smith\",\"Michael Johnson\",\n",
    "\n",
    "            \"David Brown\", \"William Davis\",\"James Wilson\",\"Robert Moore\",\"Joseph Taylor\",\"Charles Anderson\",\"Thomas White\", \"Daniel Clark\",\n",
    "\n",
    "             \"Matthew Lewis\", \"Christopher Hall\", \"Andrew Turner\",\"Mark Martin\", \"Richard Harris\", \"Paul Lee\", \"Steven Walker\",\n",
    "\n",
    "            \"Brian Young\",\"Kevin Wright\",\"Edward King\",\"George Adams\",\"Donald Nelson\",\"Ronald Baker\",\"Kenneth Roberts\",\"Anthony Carter\",\n",
    "\n",
    "            \"Jeffrey Mitchell\", \"Scott Phillips\", \"Timothy Foster\", \"Gary Hayes\", \"Larry Turner\",\"Stephen Wood\", \"Frank Reed\",\"Patrick Cook\",\n",
    "\n",
    "            \"Raymond Morris\", \"Gregory Jenkins\",\"Dennis Bennett\", \"Jerry Bell\", \"Eric Murphy\",\"Peter Price\"]\n",
    "\n",
    "#Splitting up attributes and categories\n",
    "dfX = df.drop (columns =[\"Status\"])\n",
    "sy = df.Status\n",
    "\n",
    "# Creating testing and training set for the model\n",
    "from sklearn.model_selection import train_test_split\n",
    "dfX_train, dfX_test, sy_train, sy_test = train_test_split (dfX, sy)\n",
    "\n",
    "# Encoding the categorical labels\n",
    "from sklearn import preprocessing \n",
    "le = preprocessing.LabelEncoder()\n",
    "le = le.fit(sy_train)\n",
    "#Converts into a numpy array of integers\n",
    "y_train = le.transform(sy_train) # 0 is fail, 1 is pass\n",
    "\n",
    "#Scaling of attributes using MinMaxScaler()\n",
    "nl = preprocessing.MinMaxScaler() \n",
    "nl = nl.fit(dfX_train.to_numpy())\n",
    "X_train = nl.transform(dfX_train.to_numpy())\n",
    "\n",
    "#Creating the knn classifier\n",
    "from sklearn.neighbors import KNeighborsClassifier\n",
    "\n",
    "knn = KNeighborsClassifier(n_neighbors=1)\n",
    "knn = knn.fit(X_train, y_train)\n",
    "\n",
    "#Processing of the test datasets\n",
    "y_test = le.transform(sy_test.to_numpy())\n",
    "X_test = nl.transform(dfX_test.to_numpy())"
   ]
  },
  {
   "cell_type": "code",
   "execution_count": 79,
   "metadata": {},
   "outputs": [
    {
     "data": {
      "image/png": "[encoded data removed]",
      "text/plain": [
       "<Figure size 640x480 with 2 Axes>"
      ]
     },
     "metadata": {},
     "output_type": "display_data"
    }
   ],
   "source": [
    "#Calculation of the Confusion Matrix\n",
    "from sklearn.metrics import confusion_matrix, ConfusionMatrixDisplay\n",
    "y_true = y_train\n",
    "y_pred = knn.predict(X_train)\n",
    "cm = confusion_matrix(y_true, y_pred)\n",
    "display = ConfusionMatrixDisplay(confusion_matrix=cm)\n",
    "\n",
    "display.plot()\n",
    "plt.show()\n"
   ]
  },
  {
   "cell_type": "code",
   "execution_count": 80,
   "metadata": {},
   "outputs": [
    {
     "data": {
      "text/plain": [
       "'\\nA confusion matrix can be defined as follows:\\n- As we previously know, a matrix has i rows and j columns\\n- In a confusion matrix, the ith column represents the class of the instance being predictred\\n- The jth column represents each possible class prediction\\n- The data point at position [i][j] represents the number of time a prediction of j is made for class i\\n- All entries along the diagonal are considered correct predictions\\n\\nSource: sklearn.metrics.confusion_matrix. (n.d.). Scikit-learn. https://scikit-learn.org/stable/modules/generated/sklearn.metrics.confusion_matrix.html\\n'"
      ]
     },
     "execution_count": 80,
     "metadata": {},
     "output_type": "execute_result"
    }
   ],
   "source": [
    "'''\n",
    "A confusion matrix can be defined as follows:\n",
    "- As we previously know, a matrix has i rows and j columns\n",
    "- In a confusion matrix, the ith column represents the class of the instance being predictred\n",
    "- The jth column represents each possible class prediction\n",
    "- The data point at position [i][j] represents the number of time a prediction of j is made for class i\n",
    "- All entries along the diagonal are considered correct predictions\n",
    "\n",
    "Source: sklearn.metrics.confusion_matrix. (n.d.). Scikit-learn. https://scikit-learn.org/stable/modules/generated/sklearn.metrics.confusion_matrix.html\n",
    "'''"
   ]
  },
  {
   "cell_type": "markdown",
   "metadata": {},
   "source": [
    "# Task 4"
   ]
  },
  {
   "cell_type": "code",
   "execution_count": 81,
   "metadata": {},
   "outputs": [
    {
     "ename": "ValueError",
     "evalue": "X has 2 features, but MinMaxScaler is expecting 3 features as input.",
     "output_type": "error",
     "traceback": [
      "\u001b[1;31m---------------------------------------------------------------------------\u001b[0m",
      "\u001b[1;31mValueError\u001b[0m                                Traceback (most recent call last)",
      "\u001b[1;32mc:\\Users\\sslaq\\OneDrive\\Documents\\GitHub\\ENDG_319_Files\\CURE_Project4\\CURE4.ipynb Cell 15\u001b[0m line \u001b[0;36m3\n\u001b[0;32m      <a href='vscode-notebook-cell:/c%3A/Users/sslaq/OneDrive/Documents/GitHub/ENDG_319_Files/CURE_Project4/CURE4.ipynb#X16sZmlsZQ%3D%3D?line=0'>1</a>\u001b[0m \u001b[39m#Predicts whether this student passed of failed based on our classifier\u001b[39;00m\n\u001b[0;32m      <a href='vscode-notebook-cell:/c%3A/Users/sslaq/OneDrive/Documents/GitHub/ENDG_319_Files/CURE_Project4/CURE4.ipynb#X16sZmlsZQ%3D%3D?line=1'>2</a>\u001b[0m new_data \u001b[39m=\u001b[39m np\u001b[39m.\u001b[39marray([[\u001b[39m55\u001b[39m, \u001b[39m85\u001b[39m]])\n\u001b[1;32m----> <a href='vscode-notebook-cell:/c%3A/Users/sslaq/OneDrive/Documents/GitHub/ENDG_319_Files/CURE_Project4/CURE4.ipynb#X16sZmlsZQ%3D%3D?line=2'>3</a>\u001b[0m X_new \u001b[39m=\u001b[39m nl\u001b[39m.\u001b[39;49mtransform(new_data)\n\u001b[0;32m      <a href='vscode-notebook-cell:/c%3A/Users/sslaq/OneDrive/Documents/GitHub/ENDG_319_Files/CURE_Project4/CURE4.ipynb#X16sZmlsZQ%3D%3D?line=3'>4</a>\u001b[0m knn\u001b[39m.\u001b[39mpredict(X_new)\n",
      "File \u001b[1;32m~\\AppData\\Roaming\\Python\\Python312\\site-packages\\sklearn\\utils\\_set_output.py:157\u001b[0m, in \u001b[0;36m_wrap_method_output.<locals>.wrapped\u001b[1;34m(self, X, *args, **kwargs)\u001b[0m\n\u001b[0;32m    155\u001b[0m \u001b[39m@wraps\u001b[39m(f)\n\u001b[0;32m    156\u001b[0m \u001b[39mdef\u001b[39;00m \u001b[39mwrapped\u001b[39m(\u001b[39mself\u001b[39m, X, \u001b[39m*\u001b[39margs, \u001b[39m*\u001b[39m\u001b[39m*\u001b[39mkwargs):\n\u001b[1;32m--> 157\u001b[0m     data_to_wrap \u001b[39m=\u001b[39m f(\u001b[39mself\u001b[39;49m, X, \u001b[39m*\u001b[39;49margs, \u001b[39m*\u001b[39;49m\u001b[39m*\u001b[39;49mkwargs)\n\u001b[0;32m    158\u001b[0m     \u001b[39mif\u001b[39;00m \u001b[39misinstance\u001b[39m(data_to_wrap, \u001b[39mtuple\u001b[39m):\n\u001b[0;32m    159\u001b[0m         \u001b[39m# only wrap the first output for cross decomposition\u001b[39;00m\n\u001b[0;32m    160\u001b[0m         return_tuple \u001b[39m=\u001b[39m (\n\u001b[0;32m    161\u001b[0m             _wrap_data_with_container(method, data_to_wrap[\u001b[39m0\u001b[39m], X, \u001b[39mself\u001b[39m),\n\u001b[0;32m    162\u001b[0m             \u001b[39m*\u001b[39mdata_to_wrap[\u001b[39m1\u001b[39m:],\n\u001b[0;32m    163\u001b[0m         )\n",
      "File \u001b[1;32m~\\AppData\\Roaming\\Python\\Python312\\site-packages\\sklearn\\preprocessing\\_data.py:515\u001b[0m, in \u001b[0;36mMinMaxScaler.transform\u001b[1;34m(self, X)\u001b[0m\n\u001b[0;32m    501\u001b[0m \u001b[39m\u001b[39m\u001b[39m\"\"\"Scale features of X according to feature_range.\u001b[39;00m\n\u001b[0;32m    502\u001b[0m \n\u001b[0;32m    503\u001b[0m \u001b[39mParameters\u001b[39;00m\n\u001b[1;32m   (...)\u001b[0m\n\u001b[0;32m    511\u001b[0m \u001b[39m    Transformed data.\u001b[39;00m\n\u001b[0;32m    512\u001b[0m \u001b[39m\"\"\"\u001b[39;00m\n\u001b[0;32m    513\u001b[0m check_is_fitted(\u001b[39mself\u001b[39m)\n\u001b[1;32m--> 515\u001b[0m X \u001b[39m=\u001b[39m \u001b[39mself\u001b[39;49m\u001b[39m.\u001b[39;49m_validate_data(\n\u001b[0;32m    516\u001b[0m     X,\n\u001b[0;32m    517\u001b[0m     copy\u001b[39m=\u001b[39;49m\u001b[39mself\u001b[39;49m\u001b[39m.\u001b[39;49mcopy,\n\u001b[0;32m    518\u001b[0m     dtype\u001b[39m=\u001b[39;49mFLOAT_DTYPES,\n\u001b[0;32m    519\u001b[0m     force_all_finite\u001b[39m=\u001b[39;49m\u001b[39m\"\u001b[39;49m\u001b[39mallow-nan\u001b[39;49m\u001b[39m\"\u001b[39;49m,\n\u001b[0;32m    520\u001b[0m     reset\u001b[39m=\u001b[39;49m\u001b[39mFalse\u001b[39;49;00m,\n\u001b[0;32m    521\u001b[0m )\n\u001b[0;32m    523\u001b[0m X \u001b[39m*\u001b[39m\u001b[39m=\u001b[39m \u001b[39mself\u001b[39m\u001b[39m.\u001b[39mscale_\n\u001b[0;32m    524\u001b[0m X \u001b[39m+\u001b[39m\u001b[39m=\u001b[39m \u001b[39mself\u001b[39m\u001b[39m.\u001b[39mmin_\n",
      "File \u001b[1;32m~\\AppData\\Roaming\\Python\\Python312\\site-packages\\sklearn\\base.py:626\u001b[0m, in \u001b[0;36mBaseEstimator._validate_data\u001b[1;34m(self, X, y, reset, validate_separately, cast_to_ndarray, **check_params)\u001b[0m\n\u001b[0;32m    623\u001b[0m     out \u001b[39m=\u001b[39m X, y\n\u001b[0;32m    625\u001b[0m \u001b[39mif\u001b[39;00m \u001b[39mnot\u001b[39;00m no_val_X \u001b[39mand\u001b[39;00m check_params\u001b[39m.\u001b[39mget(\u001b[39m\"\u001b[39m\u001b[39mensure_2d\u001b[39m\u001b[39m\"\u001b[39m, \u001b[39mTrue\u001b[39;00m):\n\u001b[1;32m--> 626\u001b[0m     \u001b[39mself\u001b[39;49m\u001b[39m.\u001b[39;49m_check_n_features(X, reset\u001b[39m=\u001b[39;49mreset)\n\u001b[0;32m    628\u001b[0m \u001b[39mreturn\u001b[39;00m out\n",
      "File \u001b[1;32m~\\AppData\\Roaming\\Python\\Python312\\site-packages\\sklearn\\base.py:415\u001b[0m, in \u001b[0;36mBaseEstimator._check_n_features\u001b[1;34m(self, X, reset)\u001b[0m\n\u001b[0;32m    412\u001b[0m     \u001b[39mreturn\u001b[39;00m\n\u001b[0;32m    414\u001b[0m \u001b[39mif\u001b[39;00m n_features \u001b[39m!=\u001b[39m \u001b[39mself\u001b[39m\u001b[39m.\u001b[39mn_features_in_:\n\u001b[1;32m--> 415\u001b[0m     \u001b[39mraise\u001b[39;00m \u001b[39mValueError\u001b[39;00m(\n\u001b[0;32m    416\u001b[0m         \u001b[39mf\u001b[39m\u001b[39m\"\u001b[39m\u001b[39mX has \u001b[39m\u001b[39m{\u001b[39;00mn_features\u001b[39m}\u001b[39;00m\u001b[39m features, but \u001b[39m\u001b[39m{\u001b[39;00m\u001b[39mself\u001b[39m\u001b[39m.\u001b[39m\u001b[39m__class__\u001b[39m\u001b[39m.\u001b[39m\u001b[39m__name__\u001b[39m\u001b[39m}\u001b[39;00m\u001b[39m \u001b[39m\u001b[39m\"\u001b[39m\n\u001b[0;32m    417\u001b[0m         \u001b[39mf\u001b[39m\u001b[39m\"\u001b[39m\u001b[39mis expecting \u001b[39m\u001b[39m{\u001b[39;00m\u001b[39mself\u001b[39m\u001b[39m.\u001b[39mn_features_in_\u001b[39m}\u001b[39;00m\u001b[39m features as input.\u001b[39m\u001b[39m\"\u001b[39m\n\u001b[0;32m    418\u001b[0m     )\n",
      "\u001b[1;31mValueError\u001b[0m: X has 2 features, but MinMaxScaler is expecting 3 features as input."
     ]
    }
   ],
   "source": [
    "#Predicts whether this student passed of failed based on our classifier\n",
    "new_data = np.array([[55, 85]])\n",
    "X_new = nl.transform(new_data)\n",
    "knn.predict(X_new)"
   ]
  }
 ],
 "metadata": {
  "kernelspec": {
   "display_name": "Python 3",
   "language": "python",
   "name": "python3"
  },
  "language_info": {
   "codemirror_mode": {
    "name": "ipython",
    "version": 3
   },
   "file_extension": ".py",
   "mimetype": "text/x-python",
   "name": "python",
   "nbconvert_exporter": "python",
   "pygments_lexer": "ipython3",
   "version": "3.12.0"
  }
 },
 "nbformat": 4,
 "nbformat_minor": 2
}
