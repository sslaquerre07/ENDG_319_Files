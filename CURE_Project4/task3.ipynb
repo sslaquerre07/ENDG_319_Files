{
 "cells": [
  {
   "cell_type": "markdown",
   "metadata": {},
   "source": [
    "# Task 3"
   ]
  },
  {
   "cell_type": "markdown",
   "metadata": {},
   "source": [
    "### Based on multiple trials, it seems like the best k value is 1. Since both classifiers seem to work pretty identically, MinMaxScaler provides easier values to work with, thus we'll use it from now on."
   ]
  },
  {
   "cell_type": "code",
   "execution_count": null,
   "metadata": {},
   "outputs": [],
   "source": []
  }
 ],
 "metadata": {
  "language_info": {
   "name": "python"
  }
 },
 "nbformat": 4,
 "nbformat_minor": 2
}
