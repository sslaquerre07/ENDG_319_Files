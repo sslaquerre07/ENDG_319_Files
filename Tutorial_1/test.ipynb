{
 "cells": [
  {
   "cell_type": "markdown",
   "metadata": {},
   "source": [
    "# Test Title"
   ]
  },
  {
   "cell_type": "code",
   "execution_count": 2,
   "metadata": {},
   "outputs": [
    {
     "name": "stdout",
     "output_type": "stream",
     "text": [
      "Hello world\n"
     ]
    }
   ],
   "source": [
    "# Test Notebook\n",
    "\n",
    "print(\"Hello world\")"
   ]
  },
  {
   "cell_type": "markdown",
   "metadata": {},
   "source": [
    "# Problem 1\n",
    "## Find the mean of the following sample:\n",
    "The sample heights of five men are (in inches): 65.5, 67.8, 73.4, 72.1, 70.0"
   ]
  },
  {
   "cell_type": "code",
   "execution_count": 10,
   "metadata": {},
   "outputs": [
    {
     "name": "stdout",
     "output_type": "stream",
     "text": [
      "The mean of this sample is: 69.76\n",
      "The standard deviation is: 2.8555910071296986\n"
     ]
    }
   ],
   "source": [
    "import numpy as np\n",
    "height_array = np.array([65.5, 67.8, 73.4, 72.1, 70.0])\n",
    "mean = np.mean(height_array)\n",
    "std = np.std(height_array)\n",
    "import pdb; pdb.set_trace()\n",
    "print(f'The mean of this sample is: {mean}\\nThe standard deviation is: {std}')"
   ]
  },
  {
   "cell_type": "markdown",
   "metadata": {},
   "source": [
    "A function to evaluate the expression that will take a list containing the two\n",
    "operations and another list that has the three values (operands) to evaluate – this\n",
    "function has the control flow “if” statements."
   ]
  },
  {
   "cell_type": "code",
   "execution_count": 1,
   "metadata": {},
   "outputs": [
    {
     "name": "stdout",
     "output_type": "stream",
     "text": [
      "42\n"
     ]
    }
   ],
   "source": [
    "o_list = ['+', '*']\n",
    "n_list = [2, 5, 8]\n",
    "result = 0\n",
    "op_1 = [\"*\", \"/\"]\n",
    "op_2 = [\"+\", \"-\"]\n",
    "\n",
    "if o_list[1] in op_1:\n",
    "    if o_list[1] == \"*\":\n",
    "        result = n_list[1] * n_list[2]\n",
    "    else:\n",
    "        result = n_list[1] // n_list[2]  \n",
    "    if o_list[0] in op_1:\n",
    "        if o_list[0] == \"*\":\n",
    "            result *= n_list[0]\n",
    "        else:\n",
    "            result //= n_list[0]\n",
    "    else:\n",
    "        if o_list[0] == \"+\":\n",
    "            result += n_list[0]\n",
    "        else:\n",
    "            result -= n_list[0]\n",
    "            \n",
    "else:\n",
    "    if o_list[0] in op_1:\n",
    "        if o_list[0] == \"*\":\n",
    "            result = n_list[0] * n_list[1]\n",
    "        else:\n",
    "            result = n_list[0] // n_list[1]  \n",
    "        if o_list[1] in op_1:\n",
    "            if o_list[1] == \"*\":\n",
    "                result *= n_list[2]\n",
    "            else:\n",
    "                result //= n_list[2]\n",
    "        else:\n",
    "            if o_list[1] == \"+\":\n",
    "                result += n_list[2]\n",
    "            else:\n",
    "                result -= n_list[2]\n",
    "    else: \n",
    "        if o_list[0] == \"+\":\n",
    "            result = n_list[0] + n_list[1]\n",
    "        else:\n",
    "            result = n_list[0] - n_list[1]  \n",
    "        if o_list[1] in op_1:\n",
    "            if o_list[1] == \"*\":\n",
    "                result *= n_list[2]\n",
    "            else:\n",
    "                result //= n_list[2]\n",
    "        else:\n",
    "            if o_list[1] == \"+\":\n",
    "                result += n_list[2]\n",
    "            else:\n",
    "                result -= n_list[2]\n",
    "                \n",
    "print(result)"
   ]
  }
 ],
 "metadata": {
  "kernelspec": {
   "display_name": "Python 3",
   "language": "python",
   "name": "python3"
  },
  "language_info": {
   "codemirror_mode": {
    "name": "ipython",
    "version": 3
   },
   "file_extension": ".py",
   "mimetype": "text/x-python",
   "name": "python",
   "nbconvert_exporter": "python",
   "pygments_lexer": "ipython3",
   "version": "3.11.5"
  },
  "orig_nbformat": 4
 },
 "nbformat": 4,
 "nbformat_minor": 2
}
